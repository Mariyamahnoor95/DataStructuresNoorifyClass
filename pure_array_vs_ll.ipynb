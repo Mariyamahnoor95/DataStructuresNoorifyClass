{
 "cells": [
  {
   "cell_type": "markdown",
   "metadata": {},
   "source": [
    "# Array vs linked list"
   ]
  },
  {
   "cell_type": "code",
   "execution_count": null,
   "metadata": {},
   "outputs": [],
   "source": [
    "import numpy\n",
    "from array import array\n",
    "from collections import deque\n",
    "\n",
    "%matplotlib inline\n",
    "import matplotlib.pyplot as plt\n"
   ]
  },
  {
   "cell_type": "code",
   "execution_count": null,
   "metadata": {},
   "outputs": [],
   "source": [
    "def doPlot(x, y, label=None):\n",
    "    plt.loglog(x, y, \"-o\", linewidth=0.95)\n",
    "    plt.grid(True)\n"
   ]
  },
  {
   "cell_type": "code",
   "execution_count": null,
   "metadata": {},
   "outputs": [],
   "source": [
    "N_bank = numpy.logspace(2, 7, 100, dtype=numpy.int)\n",
    "print(N_bank)\n"
   ]
  },
  {
   "cell_type": "code",
   "execution_count": null,
   "metadata": {},
   "outputs": [],
   "source": [
    "dt_a1 = []\n",
    "dt_a2 = []\n",
    "dt_l1 = []\n",
    "dt_l2 = []\n",
    "\n",
    "n = 3\n",
    "\n",
    "for (k, N) in enumerate(N_bank):\n",
    "    print(\"\\n### Processing k={}, N={}\".format(k, N))\n",
    "    a = array('B', [0] * N)\n",
    "\n",
    "    dt = %timeit -o -q -n1 -r1 a[N//2]\n",
    "    dt_a1.append(dt)\n",
    "\n",
    "    dt = %timeit -o -q -n1 -r1 a.append(99)\n",
    "    print(\"\\tArray has length:\", len(a))\n",
    "    dt_a2.append(dt)\n",
    "\n",
    "    del a\n",
    "    dt = []\n",
    "    for j in range(200):\n",
    "        l = deque([None] * N)\n",
    "        dt_this = %timeit -o -q -n1 -r1 l[N//2]\n",
    "        dt.append(dt_this.best)\n",
    "        del l\n",
    "    dt_l1.append(sum(dt)/len(dt))\n",
    "\n",
    "    dt = %timeit -o -q -n1 -r1 l.append(99)\n",
    "    print(\"\\t Linked list has length:\", len(l), \"\\n\")\n",
    "    dt_l2.append(dt)\n",
    "\n",
    "    del l\n"
   ]
  },
  {
   "cell_type": "code",
   "execution_count": null,
   "metadata": {},
   "outputs": [],
   "source": [
    "fig = plt.figure(figsize=(6, 5), dpi=120)\n",
    "axes = fig.add_subplot(111)\n",
    "doPlot(N_bank, [D.best for D in dt_a1])\n",
    "doPlot(N_bank, [D.best for D in dt_a2])\n",
    "doPlot(N_bank, [D.best for D in dt_l1])\n",
    "doPlot(N_bank, [D.best for D in dt_l2])\n",
    "plt.legend((\"Array read\", \"Array append\", \"LL read\", \"LL append\"))\n",
    "plt.xlabel(\"Input size (N)\")\n",
    "plt.ylabel(\"Runtime (sec)\")\n",
    "plt.title(\"Average case time complexity of\\n array and linked list\")\n",
    "pass\n"
   ]
  }
 ],
 "metadata": {
  "kernelspec": {
   "display_name": "Python 3",
   "language": "python",
   "name": "python3"
  },
  "language_info": {
   "codemirror_mode": {
    "name": "ipython",
    "version": 3
   },
   "file_extension": ".py",
   "mimetype": "text/x-python",
   "name": "python",
   "nbconvert_exporter": "python",
   "pygments_lexer": "ipython3",
   "version": "3.8.2"
  }
 },
 "nbformat": 4,
 "nbformat_minor": 2
}
