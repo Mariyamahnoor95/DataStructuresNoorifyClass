{
 "cells": [
  {
   "cell_type": "markdown",
   "metadata": {},
   "source": [
    "# Amortization of dynamic array (VLA)"
   ]
  },
  {
   "cell_type": "code",
   "execution_count": null,
   "metadata": {},
   "outputs": [],
   "source": [
    "import sys\n",
    "import numpy\n",
    "from array import array\n",
    "# from pprint import pprint\n",
    "\n",
    "%matplotlib inline\n",
    "import matplotlib.pyplot as plt\n"
   ]
  },
  {
   "cell_type": "code",
   "execution_count": null,
   "metadata": {},
   "outputs": [],
   "source": [
    "def doPlot(x, y, label=None):\n",
    "    plt.loglog(x, y, \"-o\", linewidth=0.95)\n",
    "    plt.grid(True)\n"
   ]
  },
  {
   "cell_type": "code",
   "execution_count": null,
   "metadata": {},
   "outputs": [],
   "source": [
    "N_bank = numpy.logspace(2, 9, 20, dtype=numpy.int)\n",
    "print(N_bank)\n"
   ]
  },
  {
   "cell_type": "code",
   "execution_count": null,
   "metadata": {},
   "outputs": [],
   "source": [
    "N = int(100)\n",
    "a = array('i', [0]*N)\n",
    "sys.getsizeof(a), a"
   ]
  },
  {
   "cell_type": "code",
   "execution_count": null,
   "metadata": {},
   "outputs": [],
   "source": [
    "l = [int(0)] * N\n",
    "sys.getsizeof(l)"
   ]
  },
  {
   "cell_type": "code",
   "execution_count": null,
   "metadata": {},
   "outputs": [],
   "source": [
    "class vla(object):\n",
    "    def __init__(self, value):\n",
    "        self.array = value\n",
    "        self.next = None\n",
    "\n"
   ]
  },
  {
   "cell_type": "code",
   "execution_count": null,
   "metadata": {},
   "outputs": [],
   "source": []
  },
  {
   "cell_type": "code",
   "execution_count": null,
   "metadata": {},
   "outputs": [],
   "source": [
    "data._n"
   ]
  },
  {
   "cell_type": "code",
   "execution_count": null,
   "metadata": {},
   "outputs": [],
   "source": [
    "n = 100\n",
    "data = [ ]\n",
    "for k in range(n): # NOTE: must fix choice of n\n",
    "    a = len(data) # number of elements\n",
    "    b = sys.getsizeof(data) # actual size in bytes\n",
    "    c = int((b - 56) / 8)\n",
    "    print(\"Length: {0:3d}; Size in bytes: {1:4d}; Placeholders: {2:3d}\".format(a, b, c))\n",
    "    data.append(None) # increase length by one"
   ]
  },
  {
   "cell_type": "code",
   "execution_count": null,
   "metadata": {},
   "outputs": [],
   "source": []
  },
  {
   "cell_type": "code",
   "execution_count": null,
   "metadata": {},
   "outputs": [],
   "source": [
    "assert False"
   ]
  },
  {
   "cell_type": "code",
   "execution_count": null,
   "metadata": {},
   "outputs": [],
   "source": []
  },
  {
   "cell_type": "code",
   "execution_count": null,
   "metadata": {},
   "outputs": [],
   "source": [
    "dt_a1 = []\n",
    "dt_a2 = []\n",
    "dt_l1 = []\n",
    "dt_l2 = []\n",
    "\n",
    "n = 3\n",
    "\n",
    "for (k, N) in enumerate(N_bank):\n",
    "    print(\"Processing k={}, N={}\".format(k, N))\n",
    "    a = np.empty(N, dtype=np.int8)\n",
    "\n",
    "    dt = %timeit -o -q a[N//2]\n",
    "    dt_a1.append(dt)\n",
    "\n",
    "    dt = %timeit -o -q np.append(a, -99)\n",
    "    dt_a2.append(dt)\n",
    "\n",
    "    del a\n",
    "    l = deque([None] * N)\n",
    "\n",
    "    dt = %timeit -o -q l[N//2]\n",
    "    dt_l1.append(dt)\n",
    "\n",
    "    dt = %timeit -o -q l.append(-99)\n",
    "    dt_l2.append(dt)\n",
    "\n",
    "    del l\n"
   ]
  },
  {
   "cell_type": "code",
   "execution_count": null,
   "metadata": {},
   "outputs": [],
   "source": [
    "fig = plt.figure(figsize=(6, 5), dpi=120)\n",
    "axes = fig.add_subplot(111)\n",
    "doPlot(N_bank, [D.best for D in dt_a1])\n",
    "doPlot(N_bank, [D.best for D in dt_a2])\n",
    "doPlot(N_bank, [D.best for D in dt_l1])\n",
    "doPlot(N_bank, [D.best for D in dt_l2])\n",
    "plt.legend((\"Array read\", \"Array append\", \"LL read\", \"LL append\"))\n",
    "plt.xlabel(\"Input size (N)\")\n",
    "plt.ylabel(\"Runtime (sec)\")\n",
    "plt.title(\"Average case time complexity of\\n array and linked list\")\n",
    "pass\n"
   ]
  }
 ],
 "metadata": {
  "kernelspec": {
   "display_name": "Python 3",
   "language": "python",
   "name": "python3"
  },
  "language_info": {
   "codemirror_mode": {
    "name": "ipython",
    "version": 3
   },
   "file_extension": ".py",
   "mimetype": "text/x-python",
   "name": "python",
   "nbconvert_exporter": "python",
   "pygments_lexer": "ipython3",
   "version": "3.8.2"
  }
 },
 "nbformat": 4,
 "nbformat_minor": 2
}
